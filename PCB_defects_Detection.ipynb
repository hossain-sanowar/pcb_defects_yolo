{
  "nbformat": 4,
  "nbformat_minor": 0,
  "metadata": {
    "colab": {
      "name": "PCB defects Detection.ipynb",
      "provenance": [],
      "collapsed_sections": []
    },
    "kernelspec": {
      "name": "python3",
      "display_name": "Python 3"
    },
    "language_info": {
      "name": "python"
    },
    "gpuClass": "standard",
    "accelerator": "GPU"
  },
  "cells": [
    {
      "cell_type": "code",
      "execution_count": null,
      "metadata": {
        "colab": {
          "base_uri": "https://localhost:8080/"
        },
        "id": "hIBw0M97Efi9",
        "outputId": "86af3421-f153-4a98-82f9-3fe8faef0e3f"
      },
      "outputs": [
        {
          "output_type": "stream",
          "name": "stdout",
          "text": [
            "Mounted at /content/drive/\n"
          ]
        }
      ],
      "source": [
        "from google.colab import drive\n",
        "drive.mount('/content/drive/')"
      ]
    },
    {
      "cell_type": "code",
      "source": [
        "!unzip /content/drive/MyDrive/datasets/dataset-pcb.zip -d /content/"
      ],
      "metadata": {
        "id": "pi0HZJ-xIkSj"
      },
      "execution_count": 10,
      "outputs": []
    },
    {
      "cell_type": "code",
      "source": [
        "import os\n",
        "os.getcwd()"
      ],
      "metadata": {
        "colab": {
          "base_uri": "https://localhost:8080/",
          "height": 36
        },
        "id": "2G9qEptbJSVo",
        "outputId": "c2a4253f-4ebb-4882-d13c-ced213da171d"
      },
      "execution_count": null,
      "outputs": [
        {
          "output_type": "execute_result",
          "data": {
            "text/plain": [
              "'/content'"
            ],
            "application/vnd.google.colaboratory.intrinsic+json": {
              "type": "string"
            }
          },
          "metadata": {},
          "execution_count": 4
        }
      ]
    },
    {
      "cell_type": "code",
      "source": [
        "!git clone https://github.com/ultralytics/yolov5.git"
      ],
      "metadata": {
        "colab": {
          "base_uri": "https://localhost:8080/"
        },
        "id": "XatXY4zZJq15",
        "outputId": "5b92bb5b-1a5c-4351-8151-ae7774961520"
      },
      "execution_count": null,
      "outputs": [
        {
          "output_type": "stream",
          "name": "stdout",
          "text": [
            "Cloning into 'yolov5'...\n",
            "remote: Enumerating objects: 11698, done.\u001b[K\n",
            "remote: Counting objects: 100% (66/66), done.\u001b[K\n",
            "remote: Compressing objects: 100% (55/55), done.\u001b[K\n",
            "remote: Total 11698 (delta 25), reused 26 (delta 11), pack-reused 11632\u001b[K\n",
            "Receiving objects: 100% (11698/11698), 12.42 MiB | 29.11 MiB/s, done.\n",
            "Resolving deltas: 100% (8021/8021), done.\n"
          ]
        }
      ]
    },
    {
      "cell_type": "code",
      "source": [
        "%cd yolov5"
      ],
      "metadata": {
        "colab": {
          "base_uri": "https://localhost:8080/"
        },
        "id": "yTw9Pwk1JufA",
        "outputId": "81f02f91-d5d1-454f-bb2a-dd9569df02c0"
      },
      "execution_count": null,
      "outputs": [
        {
          "output_type": "stream",
          "name": "stdout",
          "text": [
            "/content/yolov5\n"
          ]
        }
      ]
    },
    {
      "cell_type": "code",
      "source": [
        "!pip install -r requirements.txt"
      ],
      "metadata": {
        "colab": {
          "base_uri": "https://localhost:8080/"
        },
        "id": "lwMsFqiWJy20",
        "outputId": "758545ad-a85f-45cb-af4f-2c30251fd45a"
      },
      "execution_count": null,
      "outputs": [
        {
          "output_type": "stream",
          "name": "stdout",
          "text": [
            "Looking in indexes: https://pypi.org/simple, https://us-python.pkg.dev/colab-wheels/public/simple/\n",
            "Requirement already satisfied: matplotlib>=3.2.2 in /usr/local/lib/python3.7/dist-packages (from -r requirements.txt (line 5)) (3.2.2)\n",
            "Requirement already satisfied: numpy>=1.18.5 in /usr/local/lib/python3.7/dist-packages (from -r requirements.txt (line 6)) (1.21.6)\n",
            "Requirement already satisfied: opencv-python>=4.1.1 in /usr/local/lib/python3.7/dist-packages (from -r requirements.txt (line 7)) (4.6.0.66)\n",
            "Requirement already satisfied: Pillow>=7.1.2 in /usr/local/lib/python3.7/dist-packages (from -r requirements.txt (line 8)) (7.1.2)\n",
            "Collecting PyYAML>=5.3.1\n",
            "  Downloading PyYAML-6.0-cp37-cp37m-manylinux_2_5_x86_64.manylinux1_x86_64.manylinux_2_12_x86_64.manylinux2010_x86_64.whl (596 kB)\n",
            "\u001b[K     |████████████████████████████████| 596 kB 4.7 MB/s \n",
            "\u001b[?25hRequirement already satisfied: requests>=2.23.0 in /usr/local/lib/python3.7/dist-packages (from -r requirements.txt (line 10)) (2.23.0)\n",
            "Requirement already satisfied: scipy>=1.4.1 in /usr/local/lib/python3.7/dist-packages (from -r requirements.txt (line 11)) (1.7.3)\n",
            "Requirement already satisfied: torch>=1.7.0 in /usr/local/lib/python3.7/dist-packages (from -r requirements.txt (line 12)) (1.12.1+cu113)\n",
            "Requirement already satisfied: torchvision>=0.8.1 in /usr/local/lib/python3.7/dist-packages (from -r requirements.txt (line 13)) (0.13.1+cu113)\n",
            "Requirement already satisfied: tqdm>=4.64.0 in /usr/local/lib/python3.7/dist-packages (from -r requirements.txt (line 14)) (4.64.0)\n",
            "Requirement already satisfied: protobuf<=3.20.1 in /usr/local/lib/python3.7/dist-packages (from -r requirements.txt (line 15)) (3.17.3)\n",
            "Requirement already satisfied: tensorboard>=2.4.1 in /usr/local/lib/python3.7/dist-packages (from -r requirements.txt (line 18)) (2.8.0)\n",
            "Requirement already satisfied: pandas>=1.1.4 in /usr/local/lib/python3.7/dist-packages (from -r requirements.txt (line 23)) (1.3.5)\n",
            "Requirement already satisfied: seaborn>=0.11.0 in /usr/local/lib/python3.7/dist-packages (from -r requirements.txt (line 24)) (0.11.2)\n",
            "Requirement already satisfied: ipython in /usr/local/lib/python3.7/dist-packages (from -r requirements.txt (line 38)) (7.9.0)\n",
            "Requirement already satisfied: psutil in /usr/local/lib/python3.7/dist-packages (from -r requirements.txt (line 39)) (5.4.8)\n",
            "Collecting thop>=0.1.1\n",
            "  Downloading thop-0.1.1.post2207130030-py3-none-any.whl (15 kB)\n",
            "Requirement already satisfied: pyparsing!=2.0.4,!=2.1.2,!=2.1.6,>=2.0.1 in /usr/local/lib/python3.7/dist-packages (from matplotlib>=3.2.2->-r requirements.txt (line 5)) (3.0.9)\n",
            "Requirement already satisfied: kiwisolver>=1.0.1 in /usr/local/lib/python3.7/dist-packages (from matplotlib>=3.2.2->-r requirements.txt (line 5)) (1.4.4)\n",
            "Requirement already satisfied: python-dateutil>=2.1 in /usr/local/lib/python3.7/dist-packages (from matplotlib>=3.2.2->-r requirements.txt (line 5)) (2.8.2)\n",
            "Requirement already satisfied: cycler>=0.10 in /usr/local/lib/python3.7/dist-packages (from matplotlib>=3.2.2->-r requirements.txt (line 5)) (0.11.0)\n",
            "Requirement already satisfied: certifi>=2017.4.17 in /usr/local/lib/python3.7/dist-packages (from requests>=2.23.0->-r requirements.txt (line 10)) (2022.6.15)\n",
            "Requirement already satisfied: urllib3!=1.25.0,!=1.25.1,<1.26,>=1.21.1 in /usr/local/lib/python3.7/dist-packages (from requests>=2.23.0->-r requirements.txt (line 10)) (1.24.3)\n",
            "Requirement already satisfied: idna<3,>=2.5 in /usr/local/lib/python3.7/dist-packages (from requests>=2.23.0->-r requirements.txt (line 10)) (2.10)\n",
            "Requirement already satisfied: chardet<4,>=3.0.2 in /usr/local/lib/python3.7/dist-packages (from requests>=2.23.0->-r requirements.txt (line 10)) (3.0.4)\n",
            "Requirement already satisfied: typing-extensions in /usr/local/lib/python3.7/dist-packages (from torch>=1.7.0->-r requirements.txt (line 12)) (4.1.1)\n",
            "Requirement already satisfied: six>=1.9 in /usr/local/lib/python3.7/dist-packages (from protobuf<=3.20.1->-r requirements.txt (line 15)) (1.15.0)\n",
            "Requirement already satisfied: tensorboard-plugin-wit>=1.6.0 in /usr/local/lib/python3.7/dist-packages (from tensorboard>=2.4.1->-r requirements.txt (line 18)) (1.8.1)\n",
            "Requirement already satisfied: werkzeug>=0.11.15 in /usr/local/lib/python3.7/dist-packages (from tensorboard>=2.4.1->-r requirements.txt (line 18)) (1.0.1)\n",
            "Requirement already satisfied: wheel>=0.26 in /usr/local/lib/python3.7/dist-packages (from tensorboard>=2.4.1->-r requirements.txt (line 18)) (0.37.1)\n",
            "Requirement already satisfied: google-auth-oauthlib<0.5,>=0.4.1 in /usr/local/lib/python3.7/dist-packages (from tensorboard>=2.4.1->-r requirements.txt (line 18)) (0.4.6)\n",
            "Requirement already satisfied: absl-py>=0.4 in /usr/local/lib/python3.7/dist-packages (from tensorboard>=2.4.1->-r requirements.txt (line 18)) (1.2.0)\n",
            "Requirement already satisfied: markdown>=2.6.8 in /usr/local/lib/python3.7/dist-packages (from tensorboard>=2.4.1->-r requirements.txt (line 18)) (3.4.1)\n",
            "Requirement already satisfied: tensorboard-data-server<0.7.0,>=0.6.0 in /usr/local/lib/python3.7/dist-packages (from tensorboard>=2.4.1->-r requirements.txt (line 18)) (0.6.1)\n",
            "Requirement already satisfied: google-auth<3,>=1.6.3 in /usr/local/lib/python3.7/dist-packages (from tensorboard>=2.4.1->-r requirements.txt (line 18)) (1.35.0)\n",
            "Requirement already satisfied: grpcio>=1.24.3 in /usr/local/lib/python3.7/dist-packages (from tensorboard>=2.4.1->-r requirements.txt (line 18)) (1.47.0)\n",
            "Requirement already satisfied: setuptools>=41.0.0 in /usr/local/lib/python3.7/dist-packages (from tensorboard>=2.4.1->-r requirements.txt (line 18)) (57.4.0)\n",
            "Requirement already satisfied: pytz>=2017.3 in /usr/local/lib/python3.7/dist-packages (from pandas>=1.1.4->-r requirements.txt (line 23)) (2022.1)\n",
            "Requirement already satisfied: rsa<5,>=3.1.4 in /usr/local/lib/python3.7/dist-packages (from google-auth<3,>=1.6.3->tensorboard>=2.4.1->-r requirements.txt (line 18)) (4.9)\n",
            "Requirement already satisfied: cachetools<5.0,>=2.0.0 in /usr/local/lib/python3.7/dist-packages (from google-auth<3,>=1.6.3->tensorboard>=2.4.1->-r requirements.txt (line 18)) (4.2.4)\n",
            "Requirement already satisfied: pyasn1-modules>=0.2.1 in /usr/local/lib/python3.7/dist-packages (from google-auth<3,>=1.6.3->tensorboard>=2.4.1->-r requirements.txt (line 18)) (0.2.8)\n",
            "Requirement already satisfied: requests-oauthlib>=0.7.0 in /usr/local/lib/python3.7/dist-packages (from google-auth-oauthlib<0.5,>=0.4.1->tensorboard>=2.4.1->-r requirements.txt (line 18)) (1.3.1)\n",
            "Requirement already satisfied: importlib-metadata>=4.4 in /usr/local/lib/python3.7/dist-packages (from markdown>=2.6.8->tensorboard>=2.4.1->-r requirements.txt (line 18)) (4.12.0)\n",
            "Requirement already satisfied: zipp>=0.5 in /usr/local/lib/python3.7/dist-packages (from importlib-metadata>=4.4->markdown>=2.6.8->tensorboard>=2.4.1->-r requirements.txt (line 18)) (3.8.1)\n",
            "Requirement already satisfied: pyasn1<0.5.0,>=0.4.6 in /usr/local/lib/python3.7/dist-packages (from pyasn1-modules>=0.2.1->google-auth<3,>=1.6.3->tensorboard>=2.4.1->-r requirements.txt (line 18)) (0.4.8)\n",
            "Requirement already satisfied: oauthlib>=3.0.0 in /usr/local/lib/python3.7/dist-packages (from requests-oauthlib>=0.7.0->google-auth-oauthlib<0.5,>=0.4.1->tensorboard>=2.4.1->-r requirements.txt (line 18)) (3.2.0)\n",
            "Requirement already satisfied: pygments in /usr/local/lib/python3.7/dist-packages (from ipython->-r requirements.txt (line 38)) (2.6.1)\n",
            "Requirement already satisfied: backcall in /usr/local/lib/python3.7/dist-packages (from ipython->-r requirements.txt (line 38)) (0.2.0)\n",
            "Requirement already satisfied: traitlets>=4.2 in /usr/local/lib/python3.7/dist-packages (from ipython->-r requirements.txt (line 38)) (5.1.1)\n",
            "Requirement already satisfied: prompt-toolkit<2.1.0,>=2.0.0 in /usr/local/lib/python3.7/dist-packages (from ipython->-r requirements.txt (line 38)) (2.0.10)\n",
            "Requirement already satisfied: pexpect in /usr/local/lib/python3.7/dist-packages (from ipython->-r requirements.txt (line 38)) (4.8.0)\n",
            "Requirement already satisfied: pickleshare in /usr/local/lib/python3.7/dist-packages (from ipython->-r requirements.txt (line 38)) (0.7.5)\n",
            "Requirement already satisfied: decorator in /usr/local/lib/python3.7/dist-packages (from ipython->-r requirements.txt (line 38)) (4.4.2)\n",
            "Collecting jedi>=0.10\n",
            "  Downloading jedi-0.18.1-py2.py3-none-any.whl (1.6 MB)\n",
            "\u001b[K     |████████████████████████████████| 1.6 MB 71.0 MB/s \n",
            "\u001b[?25hRequirement already satisfied: parso<0.9.0,>=0.8.0 in /usr/local/lib/python3.7/dist-packages (from jedi>=0.10->ipython->-r requirements.txt (line 38)) (0.8.3)\n",
            "Requirement already satisfied: wcwidth in /usr/local/lib/python3.7/dist-packages (from prompt-toolkit<2.1.0,>=2.0.0->ipython->-r requirements.txt (line 38)) (0.2.5)\n",
            "Requirement already satisfied: ptyprocess>=0.5 in /usr/local/lib/python3.7/dist-packages (from pexpect->ipython->-r requirements.txt (line 38)) (0.7.0)\n",
            "Installing collected packages: jedi, thop, PyYAML\n",
            "  Attempting uninstall: PyYAML\n",
            "    Found existing installation: PyYAML 3.13\n",
            "    Uninstalling PyYAML-3.13:\n",
            "      Successfully uninstalled PyYAML-3.13\n",
            "Successfully installed PyYAML-6.0 jedi-0.18.1 thop-0.1.1.post2207130030\n"
          ]
        }
      ]
    },
    {
      "cell_type": "code",
      "source": [
        "!python train.py --img 416 --batch 16 --epochs 50 --data dataset.yaml --weights yolov5s.pt --cache --name pcb_1st"
      ],
      "metadata": {
        "colab": {
          "base_uri": "https://localhost:8080/"
        },
        "id": "-Ckw33WwJ5Bo",
        "outputId": "a364f382-fe90-4c25-ee0c-d78a657ffa7a"
      },
      "execution_count": null,
      "outputs": [
        {
          "output_type": "stream",
          "name": "stdout",
          "text": [
            "\u001b[34m\u001b[1mtrain: \u001b[0mweights=yolov5s.pt, cfg=, data=dataset.yaml, hyp=data/hyps/hyp.scratch-low.yaml, epochs=50, batch_size=16, imgsz=416, rect=False, resume=False, nosave=False, noval=False, noautoanchor=False, noplots=False, evolve=None, bucket=, cache=ram, image_weights=False, device=, multi_scale=False, single_cls=False, optimizer=SGD, sync_bn=False, workers=8, project=runs/train, name=pcb_1st, exist_ok=False, quad=False, cos_lr=False, label_smoothing=0.0, patience=100, freeze=[0], save_period=-1, seed=0, local_rank=-1, entity=None, upload_dataset=False, bbox_interval=-1, artifact_alias=latest\n",
            "remote: Enumerating objects: 3, done.\u001b[K\n",
            "remote: Counting objects: 100% (3/3), done.\u001b[K\n",
            "remote: Compressing objects: 100% (3/3), done.\u001b[K\n",
            "remote: Total 3 (delta 0), reused 0 (delta 0), pack-reused 0\u001b[K\n",
            "Unpacking objects: 100% (3/3), done.\n",
            "From https://github.com/ultralytics/yolov5\n",
            "   7c9486e..fe809b8  master     -> origin/master\n",
            "\u001b[34m\u001b[1mgithub: \u001b[0m⚠️ YOLOv5 is out of date by 1 commit. Use `git pull` or `git clone https://github.com/ultralytics/yolov5` to update.\n",
            "YOLOv5 🚀 v6.2-2-g7c9486e Python-3.7.13 torch-1.12.1+cu113 CUDA:0 (Tesla T4, 15110MiB)\n",
            "\n",
            "\u001b[34m\u001b[1mhyperparameters: \u001b[0mlr0=0.01, lrf=0.01, momentum=0.937, weight_decay=0.0005, warmup_epochs=3.0, warmup_momentum=0.8, warmup_bias_lr=0.1, box=0.05, cls=0.5, cls_pw=1.0, obj=1.0, obj_pw=1.0, iou_t=0.2, anchor_t=4.0, fl_gamma=0.0, hsv_h=0.015, hsv_s=0.7, hsv_v=0.4, degrees=0.0, translate=0.1, scale=0.5, shear=0.0, perspective=0.0, flipud=0.0, fliplr=0.5, mosaic=1.0, mixup=0.0, copy_paste=0.0\n",
            "\u001b[34m\u001b[1mWeights & Biases: \u001b[0mrun 'pip install wandb' to automatically track and visualize YOLOv5 🚀 runs in Weights & Biases\n",
            "\u001b[34m\u001b[1mClearML: \u001b[0mrun 'pip install clearml' to automatically track, visualize and remotely train YOLOv5 🚀 in ClearML\n",
            "\u001b[34m\u001b[1mTensorBoard: \u001b[0mStart with 'tensorboard --logdir runs/train', view at http://localhost:6006/\n",
            "Downloading https://ultralytics.com/assets/Arial.ttf to /root/.config/Ultralytics/Arial.ttf...\n",
            "100% 755k/755k [00:00<00:00, 17.1MB/s]\n",
            "Downloading https://github.com/ultralytics/yolov5/releases/download/v6.2/yolov5s.pt to yolov5s.pt...\n",
            "100% 14.1M/14.1M [00:00<00:00, 123MB/s] \n",
            "\n",
            "Overriding model.yaml nc=80 with nc=6\n",
            "\n",
            "                 from  n    params  module                                  arguments                     \n",
            "  0                -1  1      3520  models.common.Conv                      [3, 32, 6, 2, 2]              \n",
            "  1                -1  1     18560  models.common.Conv                      [32, 64, 3, 2]                \n",
            "  2                -1  1     18816  models.common.C3                        [64, 64, 1]                   \n",
            "  3                -1  1     73984  models.common.Conv                      [64, 128, 3, 2]               \n",
            "  4                -1  2    115712  models.common.C3                        [128, 128, 2]                 \n",
            "  5                -1  1    295424  models.common.Conv                      [128, 256, 3, 2]              \n",
            "  6                -1  3    625152  models.common.C3                        [256, 256, 3]                 \n",
            "  7                -1  1   1180672  models.common.Conv                      [256, 512, 3, 2]              \n",
            "  8                -1  1   1182720  models.common.C3                        [512, 512, 1]                 \n",
            "  9                -1  1    656896  models.common.SPPF                      [512, 512, 5]                 \n",
            " 10                -1  1    131584  models.common.Conv                      [512, 256, 1, 1]              \n",
            " 11                -1  1         0  torch.nn.modules.upsampling.Upsample    [None, 2, 'nearest']          \n",
            " 12           [-1, 6]  1         0  models.common.Concat                    [1]                           \n",
            " 13                -1  1    361984  models.common.C3                        [512, 256, 1, False]          \n",
            " 14                -1  1     33024  models.common.Conv                      [256, 128, 1, 1]              \n",
            " 15                -1  1         0  torch.nn.modules.upsampling.Upsample    [None, 2, 'nearest']          \n",
            " 16           [-1, 4]  1         0  models.common.Concat                    [1]                           \n",
            " 17                -1  1     90880  models.common.C3                        [256, 128, 1, False]          \n",
            " 18                -1  1    147712  models.common.Conv                      [128, 128, 3, 2]              \n",
            " 19          [-1, 14]  1         0  models.common.Concat                    [1]                           \n",
            " 20                -1  1    296448  models.common.C3                        [256, 256, 1, False]          \n",
            " 21                -1  1    590336  models.common.Conv                      [256, 256, 3, 2]              \n",
            " 22          [-1, 10]  1         0  models.common.Concat                    [1]                           \n",
            " 23                -1  1   1182720  models.common.C3                        [512, 512, 1, False]          \n",
            " 24      [17, 20, 23]  1     29667  models.yolo.Detect                      [6, [[10, 13, 16, 30, 33, 23], [30, 61, 62, 45, 59, 119], [116, 90, 156, 198, 373, 326]], [128, 256, 512]]\n",
            "Model summary: 270 layers, 7035811 parameters, 7035811 gradients, 16.0 GFLOPs\n",
            "\n",
            "Transferred 343/349 items from yolov5s.pt\n",
            "\u001b[34m\u001b[1mAMP: \u001b[0mchecks passed ✅\n",
            "\u001b[34m\u001b[1moptimizer:\u001b[0m SGD(lr=0.01) with parameter groups 57 weight(decay=0.0), 60 weight(decay=0.0005), 60 bias\n",
            "\u001b[34m\u001b[1malbumentations: \u001b[0mBlur(p=0.01, blur_limit=(3, 7)), MedianBlur(p=0.01, blur_limit=(3, 7)), ToGray(p=0.01), CLAHE(p=0.01, clip_limit=(1, 4.0), tile_grid_size=(8, 8))\n",
            "\u001b[34m\u001b[1mtrain: \u001b[0mScanning '/content/yolov5/../dataset-pcb/labels/train' images and labels...552 found, 0 missing, 0 empty, 0 corrupt: 100% 552/552 [00:00<00:00, 651.19it/s]\n",
            "\u001b[34m\u001b[1mtrain: \u001b[0mNew cache created: /content/yolov5/../dataset-pcb/labels/train.cache\n",
            "\u001b[34m\u001b[1mtrain: \u001b[0mCaching images (0.2GB ram): 100% 552/552 [00:53<00:00, 10.41it/s]\n",
            "\u001b[34m\u001b[1mval: \u001b[0mScanning '/content/yolov5/../dataset-pcb/labels/val' images and labels...138 found, 0 missing, 0 empty, 0 corrupt: 100% 138/138 [00:00<00:00, 259.56it/s]\n",
            "\u001b[34m\u001b[1mval: \u001b[0mNew cache created: /content/yolov5/../dataset-pcb/labels/val.cache\n",
            "\u001b[34m\u001b[1mval: \u001b[0mCaching images (0.1GB ram): 100% 138/138 [00:16<00:00,  8.18it/s]\n",
            "Plotting labels to runs/train/pcb_1st/labels.jpg... \n",
            "\n",
            "\u001b[34m\u001b[1mAutoAnchor: \u001b[0m2.63 anchors/target, 1.000 Best Possible Recall (BPR). Current anchors are a good fit to dataset ✅\n",
            "Image sizes 416 train, 416 val\n",
            "Using 2 dataloader workers\n",
            "Logging results to \u001b[1mruns/train/pcb_1st\u001b[0m\n",
            "Starting training for 50 epochs...\n",
            "\n",
            "     Epoch   gpu_mem       box       obj       cls    labels  img_size\n",
            "      0/49     1.69G   0.09948   0.01313   0.04056        50       416: 100% 35/35 [00:09<00:00,  3.64it/s]\n",
            "               Class     Images     Labels          P          R     mAP@.5 mAP@.5:.95: 100% 5/5 [00:02<00:00,  2.48it/s]\n",
            "                 all        138        583          0          0          0          0\n",
            "\n",
            "     Epoch   gpu_mem       box       obj       cls    labels  img_size\n",
            "      1/49     2.08G   0.09218   0.01185   0.03612        33       416: 100% 35/35 [00:05<00:00,  6.00it/s]\n",
            "               Class     Images     Labels          P          R     mAP@.5 mAP@.5:.95: 100% 5/5 [00:00<00:00,  7.26it/s]\n",
            "                 all        138        583   2.61e-05    0.00165   1.84e-05   3.69e-06\n",
            "\n",
            "     Epoch   gpu_mem       box       obj       cls    labels  img_size\n",
            "      2/49     2.08G   0.09185   0.01253   0.03407        49       416: 100% 35/35 [00:05<00:00,  6.18it/s]\n",
            "               Class     Images     Labels          P          R     mAP@.5 mAP@.5:.95: 100% 5/5 [00:00<00:00,  7.19it/s]\n",
            "                 all        138        583   0.000123    0.00165   6.24e-05   6.24e-06\n",
            "\n",
            "     Epoch   gpu_mem       box       obj       cls    labels  img_size\n",
            "      3/49     2.08G   0.08485    0.0128   0.03381        46       416: 100% 35/35 [00:05<00:00,  6.28it/s]\n",
            "               Class     Images     Labels          P          R     mAP@.5 mAP@.5:.95: 100% 5/5 [00:00<00:00,  6.97it/s]\n",
            "                 all        138        583   0.000172     0.0122   9.13e-05    2.2e-05\n",
            "\n",
            "     Epoch   gpu_mem       box       obj       cls    labels  img_size\n",
            "      4/49     2.08G   0.08097   0.01345    0.0314        66       416: 100% 35/35 [00:05<00:00,  6.26it/s]\n",
            "               Class     Images     Labels          P          R     mAP@.5 mAP@.5:.95: 100% 5/5 [00:00<00:00,  6.94it/s]\n",
            "                 all        138        583   0.000213     0.0229   0.000135   3.75e-05\n",
            "\n",
            "     Epoch   gpu_mem       box       obj       cls    labels  img_size\n",
            "      5/49     2.08G   0.08826   0.01317   0.03494        48       416: 100% 35/35 [00:05<00:00,  6.22it/s]\n",
            "               Class     Images     Labels          P          R     mAP@.5 mAP@.5:.95: 100% 5/5 [00:00<00:00,  7.31it/s]\n",
            "                 all        138        583   0.000601     0.0295   0.000564   0.000167\n",
            "\n",
            "     Epoch   gpu_mem       box       obj       cls    labels  img_size\n",
            "      6/49     2.08G   0.08458   0.01387   0.03055        61       416: 100% 35/35 [00:05<00:00,  6.14it/s]\n",
            "               Class     Images     Labels          P          R     mAP@.5 mAP@.5:.95: 100% 5/5 [00:00<00:00,  6.84it/s]\n",
            "                 all        138        583    0.00477     0.0999    0.00365    0.00109\n",
            "\n",
            "     Epoch   gpu_mem       box       obj       cls    labels  img_size\n",
            "      7/49     2.08G   0.07874   0.01411    0.0293        44       416: 100% 35/35 [00:05<00:00,  6.14it/s]\n",
            "               Class     Images     Labels          P          R     mAP@.5 mAP@.5:.95: 100% 5/5 [00:00<00:00,  6.88it/s]\n",
            "                 all        138        583    0.00192      0.135    0.00218    0.00046\n",
            "\n",
            "     Epoch   gpu_mem       box       obj       cls    labels  img_size\n",
            "      8/49     2.08G   0.08344   0.01486   0.03065        45       416: 100% 35/35 [00:05<00:00,  6.18it/s]\n",
            "               Class     Images     Labels          P          R     mAP@.5 mAP@.5:.95: 100% 5/5 [00:00<00:00,  6.43it/s]\n",
            "                 all        138        583      0.228     0.0517    0.00994    0.00214\n",
            "\n",
            "     Epoch   gpu_mem       box       obj       cls    labels  img_size\n",
            "      9/49     2.08G    0.0728   0.01546   0.02904        51       416: 100% 35/35 [00:05<00:00,  6.16it/s]\n",
            "               Class     Images     Labels          P          R     mAP@.5 mAP@.5:.95: 100% 5/5 [00:00<00:00,  6.09it/s]\n",
            "                 all        138        583      0.294     0.0666     0.0238    0.00452\n",
            "\n",
            "     Epoch   gpu_mem       box       obj       cls    labels  img_size\n",
            "     10/49     2.08G   0.07222   0.01589   0.02766        76       416: 100% 35/35 [00:05<00:00,  6.18it/s]\n",
            "               Class     Images     Labels          P          R     mAP@.5 mAP@.5:.95: 100% 5/5 [00:00<00:00,  6.36it/s]\n",
            "                 all        138        583      0.226     0.0824      0.041     0.0108\n",
            "\n",
            "     Epoch   gpu_mem       box       obj       cls    labels  img_size\n",
            "     11/49     2.08G   0.06421   0.01518   0.02774        47       416: 100% 35/35 [00:05<00:00,  6.19it/s]\n",
            "               Class     Images     Labels          P          R     mAP@.5 mAP@.5:.95: 100% 5/5 [00:00<00:00,  6.54it/s]\n",
            "                 all        138        583       0.11      0.128     0.0405    0.00898\n",
            "\n",
            "     Epoch   gpu_mem       box       obj       cls    labels  img_size\n",
            "     12/49     2.08G    0.0615   0.01471    0.0257        40       416: 100% 35/35 [00:05<00:00,  6.22it/s]\n",
            "               Class     Images     Labels          P          R     mAP@.5 mAP@.5:.95: 100% 5/5 [00:00<00:00,  5.78it/s]\n",
            "                 all        138        583      0.397      0.152     0.0645     0.0165\n",
            "\n",
            "     Epoch   gpu_mem       box       obj       cls    labels  img_size\n",
            "     13/49     2.08G   0.06287   0.01485   0.02606        56       416: 100% 35/35 [00:05<00:00,  6.06it/s]\n",
            "               Class     Images     Labels          P          R     mAP@.5 mAP@.5:.95: 100% 5/5 [00:00<00:00,  5.69it/s]\n",
            "                 all        138        583      0.114      0.231     0.0907     0.0267\n",
            "\n",
            "     Epoch   gpu_mem       box       obj       cls    labels  img_size\n",
            "     14/49     2.08G    0.0614   0.01513   0.02583        76       416: 100% 35/35 [00:05<00:00,  6.05it/s]\n",
            "               Class     Images     Labels          P          R     mAP@.5 mAP@.5:.95: 100% 5/5 [00:00<00:00,  5.86it/s]\n",
            "                 all        138        583      0.143      0.285       0.15     0.0487\n",
            "\n",
            "     Epoch   gpu_mem       box       obj       cls    labels  img_size\n",
            "     15/49     2.08G   0.05876   0.01419   0.02541        47       416: 100% 35/35 [00:05<00:00,  6.04it/s]\n",
            "               Class     Images     Labels          P          R     mAP@.5 mAP@.5:.95: 100% 5/5 [00:00<00:00,  5.87it/s]\n",
            "                 all        138        583      0.149      0.321      0.173     0.0504\n",
            "\n",
            "     Epoch   gpu_mem       box       obj       cls    labels  img_size\n",
            "     16/49     2.08G   0.05465   0.01437   0.02515        52       416: 100% 35/35 [00:05<00:00,  6.12it/s]\n",
            "               Class     Images     Labels          P          R     mAP@.5 mAP@.5:.95: 100% 5/5 [00:00<00:00,  6.08it/s]\n",
            "                 all        138        583      0.188      0.276      0.147     0.0368\n",
            "\n",
            "     Epoch   gpu_mem       box       obj       cls    labels  img_size\n",
            "     17/49     2.08G   0.05467   0.01397   0.02407        62       416: 100% 35/35 [00:05<00:00,  6.24it/s]\n",
            "               Class     Images     Labels          P          R     mAP@.5 mAP@.5:.95: 100% 5/5 [00:00<00:00,  5.80it/s]\n",
            "                 all        138        583      0.208      0.316      0.182     0.0544\n",
            "\n",
            "     Epoch   gpu_mem       box       obj       cls    labels  img_size\n",
            "     18/49     2.08G   0.05232   0.01383   0.02263        43       416: 100% 35/35 [00:05<00:00,  6.18it/s]\n",
            "               Class     Images     Labels          P          R     mAP@.5 mAP@.5:.95: 100% 5/5 [00:00<00:00,  5.79it/s]\n",
            "                 all        138        583      0.209      0.354      0.246     0.0815\n",
            "\n",
            "     Epoch   gpu_mem       box       obj       cls    labels  img_size\n",
            "     19/49     2.08G   0.05778   0.01411   0.02165        48       416: 100% 35/35 [00:05<00:00,  6.16it/s]\n",
            "               Class     Images     Labels          P          R     mAP@.5 mAP@.5:.95: 100% 5/5 [00:00<00:00,  6.11it/s]\n",
            "                 all        138        583      0.277      0.352      0.227     0.0776\n",
            "\n",
            "     Epoch   gpu_mem       box       obj       cls    labels  img_size\n",
            "     20/49     2.08G   0.05605   0.01437   0.02212        41       416: 100% 35/35 [00:05<00:00,  6.24it/s]\n",
            "               Class     Images     Labels          P          R     mAP@.5 mAP@.5:.95: 100% 5/5 [00:00<00:00,  6.06it/s]\n",
            "                 all        138        583      0.286      0.326       0.28     0.0933\n",
            "\n",
            "     Epoch   gpu_mem       box       obj       cls    labels  img_size\n",
            "     21/49     2.08G   0.05083   0.01394   0.02177        64       416: 100% 35/35 [00:05<00:00,  6.25it/s]\n",
            "               Class     Images     Labels          P          R     mAP@.5 mAP@.5:.95: 100% 5/5 [00:00<00:00,  5.99it/s]\n",
            "                 all        138        583       0.36       0.35      0.325      0.115\n",
            "\n",
            "     Epoch   gpu_mem       box       obj       cls    labels  img_size\n",
            "     22/49     2.08G   0.05375   0.01366    0.0218        60       416: 100% 35/35 [00:05<00:00,  6.11it/s]\n",
            "               Class     Images     Labels          P          R     mAP@.5 mAP@.5:.95: 100% 5/5 [00:00<00:00,  5.87it/s]\n",
            "                 all        138        583      0.371      0.423      0.333     0.0995\n",
            "\n",
            "     Epoch   gpu_mem       box       obj       cls    labels  img_size\n",
            "     23/49     2.08G   0.04768   0.01305   0.02119        24       416: 100% 35/35 [00:05<00:00,  6.14it/s]\n",
            "               Class     Images     Labels          P          R     mAP@.5 mAP@.5:.95: 100% 5/5 [00:00<00:00,  6.10it/s]\n",
            "                 all        138        583      0.371      0.412      0.338     0.0996\n",
            "\n",
            "     Epoch   gpu_mem       box       obj       cls    labels  img_size\n",
            "     24/49     2.08G   0.05063   0.01358    0.0225        46       416: 100% 35/35 [00:05<00:00,  6.10it/s]\n",
            "               Class     Images     Labels          P          R     mAP@.5 mAP@.5:.95: 100% 5/5 [00:00<00:00,  6.06it/s]\n",
            "                 all        138        583      0.312      0.427      0.339      0.104\n",
            "\n",
            "     Epoch   gpu_mem       box       obj       cls    labels  img_size\n",
            "     25/49     2.08G   0.05232   0.01347   0.01931        61       416: 100% 35/35 [00:05<00:00,  6.10it/s]\n",
            "               Class     Images     Labels          P          R     mAP@.5 mAP@.5:.95: 100% 5/5 [00:00<00:00,  5.92it/s]\n",
            "                 all        138        583      0.425      0.487      0.376      0.139\n",
            "\n",
            "     Epoch   gpu_mem       box       obj       cls    labels  img_size\n",
            "     26/49     2.08G   0.04954   0.01342   0.02031        48       416: 100% 35/35 [00:05<00:00,  6.12it/s]\n",
            "               Class     Images     Labels          P          R     mAP@.5 mAP@.5:.95: 100% 5/5 [00:00<00:00,  6.16it/s]\n",
            "                 all        138        583      0.444      0.467      0.373      0.123\n",
            "\n",
            "     Epoch   gpu_mem       box       obj       cls    labels  img_size\n",
            "     27/49     2.08G   0.04986   0.01308   0.02082        55       416: 100% 35/35 [00:05<00:00,  6.08it/s]\n",
            "               Class     Images     Labels          P          R     mAP@.5 mAP@.5:.95: 100% 5/5 [00:00<00:00,  6.18it/s]\n",
            "                 all        138        583      0.449        0.5      0.406       0.14\n",
            "\n",
            "     Epoch   gpu_mem       box       obj       cls    labels  img_size\n",
            "     28/49     2.08G   0.04573   0.01405   0.01991        38       416: 100% 35/35 [00:05<00:00,  6.23it/s]\n",
            "               Class     Images     Labels          P          R     mAP@.5 mAP@.5:.95: 100% 5/5 [00:00<00:00,  5.96it/s]\n",
            "                 all        138        583       0.41      0.495      0.417      0.149\n",
            "\n",
            "     Epoch   gpu_mem       box       obj       cls    labels  img_size\n",
            "     29/49     2.08G   0.04544    0.0127   0.01839        82       416: 100% 35/35 [00:05<00:00,  6.17it/s]\n",
            "               Class     Images     Labels          P          R     mAP@.5 mAP@.5:.95: 100% 5/5 [00:00<00:00,  6.14it/s]\n",
            "                 all        138        583      0.444      0.464        0.4      0.142\n",
            "\n",
            "     Epoch   gpu_mem       box       obj       cls    labels  img_size\n",
            "     30/49     2.08G   0.04728   0.01287   0.01877        51       416: 100% 35/35 [00:05<00:00,  6.16it/s]\n",
            "               Class     Images     Labels          P          R     mAP@.5 mAP@.5:.95: 100% 5/5 [00:00<00:00,  5.99it/s]\n",
            "                 all        138        583      0.492      0.498      0.442      0.164\n",
            "\n",
            "     Epoch   gpu_mem       box       obj       cls    labels  img_size\n",
            "     31/49     2.08G   0.04835   0.01278   0.01901        38       416: 100% 35/35 [00:05<00:00,  6.12it/s]\n",
            "               Class     Images     Labels          P          R     mAP@.5 mAP@.5:.95: 100% 5/5 [00:00<00:00,  6.03it/s]\n",
            "                 all        138        583      0.494      0.484      0.414      0.141\n",
            "\n",
            "     Epoch   gpu_mem       box       obj       cls    labels  img_size\n",
            "     32/49     2.08G   0.05089   0.01314   0.02007        35       416: 100% 35/35 [00:05<00:00,  6.18it/s]\n",
            "               Class     Images     Labels          P          R     mAP@.5 mAP@.5:.95: 100% 5/5 [00:00<00:00,  6.09it/s]\n",
            "                 all        138        583      0.502      0.511      0.448      0.165\n",
            "\n",
            "     Epoch   gpu_mem       box       obj       cls    labels  img_size\n",
            "     33/49     2.08G   0.04604   0.01286   0.02034        37       416: 100% 35/35 [00:05<00:00,  6.16it/s]\n",
            "               Class     Images     Labels          P          R     mAP@.5 mAP@.5:.95: 100% 5/5 [00:00<00:00,  6.01it/s]\n",
            "                 all        138        583      0.526      0.544      0.478       0.18\n",
            "\n",
            "     Epoch   gpu_mem       box       obj       cls    labels  img_size\n",
            "     34/49     2.08G   0.04692   0.01284   0.01866        31       416: 100% 35/35 [00:05<00:00,  6.18it/s]\n",
            "               Class     Images     Labels          P          R     mAP@.5 mAP@.5:.95: 100% 5/5 [00:00<00:00,  5.76it/s]\n",
            "                 all        138        583      0.555      0.568      0.485      0.172\n",
            "\n",
            "     Epoch   gpu_mem       box       obj       cls    labels  img_size\n",
            "     35/49     2.08G   0.04383   0.01261   0.01858        44       416: 100% 35/35 [00:05<00:00,  6.11it/s]\n",
            "               Class     Images     Labels          P          R     mAP@.5 mAP@.5:.95: 100% 5/5 [00:00<00:00,  6.11it/s]\n",
            "                 all        138        583      0.519      0.563      0.496      0.186\n",
            "\n",
            "     Epoch   gpu_mem       box       obj       cls    labels  img_size\n",
            "     36/49     2.08G   0.04063   0.01257   0.01626        77       416: 100% 35/35 [00:05<00:00,  6.08it/s]\n",
            "               Class     Images     Labels          P          R     mAP@.5 mAP@.5:.95: 100% 5/5 [00:00<00:00,  6.07it/s]\n",
            "                 all        138        583      0.525      0.581      0.501      0.179\n",
            "\n",
            "     Epoch   gpu_mem       box       obj       cls    labels  img_size\n",
            "     37/49     2.08G   0.04064   0.01272   0.01705        36       416: 100% 35/35 [00:05<00:00,  6.12it/s]\n",
            "               Class     Images     Labels          P          R     mAP@.5 mAP@.5:.95: 100% 5/5 [00:00<00:00,  6.02it/s]\n",
            "                 all        138        583      0.556      0.602      0.522      0.199\n",
            "\n",
            "     Epoch   gpu_mem       box       obj       cls    labels  img_size\n",
            "     38/49     2.08G   0.04392   0.01262   0.01652        63       416: 100% 35/35 [00:05<00:00,  6.07it/s]\n",
            "               Class     Images     Labels          P          R     mAP@.5 mAP@.5:.95: 100% 5/5 [00:00<00:00,  6.00it/s]\n",
            "                 all        138        583      0.575      0.591      0.529      0.197\n",
            "\n",
            "     Epoch   gpu_mem       box       obj       cls    labels  img_size\n",
            "     39/49     2.08G   0.04034   0.01229   0.01591        61       416: 100% 35/35 [00:05<00:00,  6.10it/s]\n",
            "               Class     Images     Labels          P          R     mAP@.5 mAP@.5:.95: 100% 5/5 [00:00<00:00,  6.07it/s]\n",
            "                 all        138        583      0.571      0.598       0.52      0.196\n",
            "\n",
            "     Epoch   gpu_mem       box       obj       cls    labels  img_size\n",
            "     40/49     2.08G   0.04197   0.01234   0.01809        57       416: 100% 35/35 [00:05<00:00,  6.26it/s]\n",
            "               Class     Images     Labels          P          R     mAP@.5 mAP@.5:.95: 100% 5/5 [00:00<00:00,  5.97it/s]\n",
            "                 all        138        583      0.576      0.609      0.535      0.207\n",
            "\n",
            "     Epoch   gpu_mem       box       obj       cls    labels  img_size\n",
            "     41/49     2.08G   0.03954   0.01217   0.01628        50       416: 100% 35/35 [00:05<00:00,  6.21it/s]\n",
            "               Class     Images     Labels          P          R     mAP@.5 mAP@.5:.95: 100% 5/5 [00:00<00:00,  6.07it/s]\n",
            "                 all        138        583      0.599      0.643      0.546      0.214\n",
            "\n",
            "     Epoch   gpu_mem       box       obj       cls    labels  img_size\n",
            "     42/49     2.08G   0.04194   0.01212   0.01632        51       416: 100% 35/35 [00:05<00:00,  6.26it/s]\n",
            "               Class     Images     Labels          P          R     mAP@.5 mAP@.5:.95: 100% 5/5 [00:00<00:00,  6.05it/s]\n",
            "                 all        138        583      0.587      0.647      0.551      0.206\n",
            "\n",
            "     Epoch   gpu_mem       box       obj       cls    labels  img_size\n",
            "     43/49     2.08G   0.03943   0.01211   0.01531        74       416: 100% 35/35 [00:05<00:00,  6.11it/s]\n",
            "               Class     Images     Labels          P          R     mAP@.5 mAP@.5:.95: 100% 5/5 [00:00<00:00,  6.20it/s]\n",
            "                 all        138        583      0.571      0.643      0.547      0.215\n",
            "\n",
            "     Epoch   gpu_mem       box       obj       cls    labels  img_size\n",
            "     44/49     2.08G   0.03822   0.01185   0.01567        47       416: 100% 35/35 [00:05<00:00,  6.23it/s]\n",
            "               Class     Images     Labels          P          R     mAP@.5 mAP@.5:.95: 100% 5/5 [00:00<00:00,  5.88it/s]\n",
            "                 all        138        583      0.585      0.643      0.559      0.219\n",
            "\n",
            "     Epoch   gpu_mem       box       obj       cls    labels  img_size\n",
            "     45/49     2.08G   0.04129   0.01293    0.0152        60       416: 100% 35/35 [00:05<00:00,  6.16it/s]\n",
            "               Class     Images     Labels          P          R     mAP@.5 mAP@.5:.95: 100% 5/5 [00:00<00:00,  5.90it/s]\n",
            "                 all        138        583      0.571      0.651      0.569       0.22\n",
            "\n",
            "     Epoch   gpu_mem       box       obj       cls    labels  img_size\n",
            "     46/49     2.08G   0.03793   0.01179   0.01527        29       416: 100% 35/35 [00:05<00:00,  6.23it/s]\n",
            "               Class     Images     Labels          P          R     mAP@.5 mAP@.5:.95: 100% 5/5 [00:00<00:00,  6.06it/s]\n",
            "                 all        138        583      0.596      0.643      0.566      0.213\n",
            "\n",
            "     Epoch   gpu_mem       box       obj       cls    labels  img_size\n",
            "     47/49     2.08G   0.03797   0.01193   0.01608        52       416: 100% 35/35 [00:05<00:00,  6.09it/s]\n",
            "               Class     Images     Labels          P          R     mAP@.5 mAP@.5:.95: 100% 5/5 [00:00<00:00,  6.19it/s]\n",
            "                 all        138        583      0.589      0.657      0.575      0.228\n",
            "\n",
            "     Epoch   gpu_mem       box       obj       cls    labels  img_size\n",
            "     48/49     2.08G   0.03787   0.01272   0.01615        49       416: 100% 35/35 [00:05<00:00,  6.12it/s]\n",
            "               Class     Images     Labels          P          R     mAP@.5 mAP@.5:.95: 100% 5/5 [00:00<00:00,  5.55it/s]\n",
            "                 all        138        583      0.585      0.641      0.565      0.221\n",
            "\n",
            "     Epoch   gpu_mem       box       obj       cls    labels  img_size\n",
            "     49/49     2.08G   0.03649   0.01181   0.01505        64       416: 100% 35/35 [00:05<00:00,  6.21it/s]\n",
            "               Class     Images     Labels          P          R     mAP@.5 mAP@.5:.95: 100% 5/5 [00:00<00:00,  6.14it/s]\n",
            "                 all        138        583      0.589      0.655      0.571      0.227\n",
            "\n",
            "50 epochs completed in 0.099 hours.\n",
            "Optimizer stripped from runs/train/pcb_1st/weights/last.pt, 14.4MB\n",
            "Optimizer stripped from runs/train/pcb_1st/weights/best.pt, 14.4MB\n",
            "\n",
            "Validating runs/train/pcb_1st/weights/best.pt...\n",
            "Fusing layers... \n",
            "Model summary: 213 layers, 7026307 parameters, 0 gradients, 15.8 GFLOPs\n",
            "               Class     Images     Labels          P          R     mAP@.5 mAP@.5:.95: 100% 5/5 [00:02<00:00,  1.80it/s]\n",
            "                 all        138        583      0.589      0.657      0.575      0.228\n",
            "        missing_hole        138         89      0.906      0.955      0.973      0.441\n",
            "          mouse_bite        138         96      0.447      0.573      0.418      0.138\n",
            "        open_circuit        138        100      0.477       0.58      0.425      0.136\n",
            "               short        138         96      0.818      0.812       0.84      0.351\n",
            "                spur        138        101      0.441      0.538      0.425      0.152\n",
            "     spurious_copper        138        101      0.448      0.485       0.37      0.146\n",
            "Results saved to \u001b[1mruns/train/pcb_1st\u001b[0m\n"
          ]
        }
      ]
    },
    {
      "cell_type": "code",
      "source": [
        "!zip -r /content/drive/MyDrive/datasets/runs-pcb.zip /content/yolov5/runs"
      ],
      "metadata": {
        "colab": {
          "base_uri": "https://localhost:8080/"
        },
        "id": "Jpy8NOahL7Ng",
        "outputId": "96b9a419-2b00-4055-ce50-4bcd0be98c12"
      },
      "execution_count": null,
      "outputs": [
        {
          "output_type": "stream",
          "name": "stdout",
          "text": [
            "  adding: content/yolov5/runs/ (stored 0%)\n",
            "  adding: content/yolov5/runs/train/ (stored 0%)\n",
            "  adding: content/yolov5/runs/train/pcb_1st/ (stored 0%)\n",
            "  adding: content/yolov5/runs/train/pcb_1st/results.png (deflated 8%)\n",
            "  adding: content/yolov5/runs/train/pcb_1st/P_curve.png (deflated 6%)\n",
            "  adding: content/yolov5/runs/train/pcb_1st/opt.yaml (deflated 49%)\n",
            "  adding: content/yolov5/runs/train/pcb_1st/val_batch0_labels.jpg (deflated 18%)\n",
            "  adding: content/yolov5/runs/train/pcb_1st/R_curve.png (deflated 7%)\n",
            "  adding: content/yolov5/runs/train/pcb_1st/val_batch0_pred.jpg (deflated 21%)\n",
            "  adding: content/yolov5/runs/train/pcb_1st/labels_correlogram.jpg (deflated 25%)\n",
            "  adding: content/yolov5/runs/train/pcb_1st/PR_curve.png (deflated 9%)\n",
            "  adding: content/yolov5/runs/train/pcb_1st/hyp.yaml (deflated 45%)\n",
            "  adding: content/yolov5/runs/train/pcb_1st/labels.jpg (deflated 20%)\n",
            "  adding: content/yolov5/runs/train/pcb_1st/val_batch1_pred.jpg (deflated 13%)\n",
            "  adding: content/yolov5/runs/train/pcb_1st/results.csv (deflated 83%)\n",
            "  adding: content/yolov5/runs/train/pcb_1st/train_batch1.jpg (deflated 3%)\n",
            "  adding: content/yolov5/runs/train/pcb_1st/weights/ (stored 0%)\n",
            "  adding: content/yolov5/runs/train/pcb_1st/weights/last.pt (deflated 9%)\n",
            "  adding: content/yolov5/runs/train/pcb_1st/weights/best.pt (deflated 9%)\n",
            "  adding: content/yolov5/runs/train/pcb_1st/events.out.tfevents.1660746190.5f8cbc09ba79.480.0 (deflated 25%)\n",
            "  adding: content/yolov5/runs/train/pcb_1st/train_batch2.jpg (deflated 3%)\n",
            "  adding: content/yolov5/runs/train/pcb_1st/train_batch0.jpg (deflated 3%)\n",
            "  adding: content/yolov5/runs/train/pcb_1st/F1_curve.png (deflated 6%)\n",
            "  adding: content/yolov5/runs/train/pcb_1st/val_batch2_pred.jpg (deflated 20%)\n",
            "  adding: content/yolov5/runs/train/pcb_1st/val_batch2_labels.jpg (deflated 21%)\n",
            "  adding: content/yolov5/runs/train/pcb_1st/val_batch1_labels.jpg (deflated 13%)\n",
            "  adding: content/yolov5/runs/train/pcb_1st/confusion_matrix.png (deflated 20%)\n"
          ]
        }
      ]
    },
    {
      "cell_type": "code",
      "source": [
        "!python val.py --weights runs/train/pcb_1st/weights/best.pt --data dataset.yaml "
      ],
      "metadata": {
        "id": "sWTkSg7EMw68"
      },
      "execution_count": null,
      "outputs": []
    },
    {
      "cell_type": "code",
      "source": [
        "!python detect.py --source ../test_images/test_1.jpg  --weights runs/train/pcb_1st/weights/best.pt"
      ],
      "metadata": {
        "id": "ctwOJYoNT5iC"
      },
      "execution_count": null,
      "outputs": []
    }
  ]
}